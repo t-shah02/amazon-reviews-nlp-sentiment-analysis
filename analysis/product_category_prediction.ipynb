{
 "cells": [
  {
   "cell_type": "markdown",
   "id": "76dccdde-bcbe-4269-ae62-77cf1405a961",
   "metadata": {},
   "source": [
    "# Product Category Prediction Machine Learning Algorithm\n",
    "**Goal/objective**: The purpose of this notebook is to utilize NLP techniques, to see if we can predict a review's product category, based on its body of text.\n",
    "\n",
    "*Note: This is a classification problem, where we use a single string feature to perform a multi-class/label prediction on our reviews dataset*"
   ]
  },
  {
   "cell_type": "code",
   "execution_count": 2,
   "id": "606e2a71-1c8c-4a10-a01a-f53cfb891dfa",
   "metadata": {},
   "outputs": [],
   "source": [
    "from read_data import get_output_amazon_data\n",
    "from read_ml_models import save_model\n",
    "from sklearn.model_selection import train_test_split\n",
    "from sklearn.pipeline import make_pipeline\n",
    "from sklearn.feature_extraction.text import TfidfVectorizer\n",
    "from sklearn.naive_bayes import MultinomialNB\n",
    "from sklearn.svm import LinearSVC\n",
    "from sklearn.model_selection import GridSearchCV\n",
    "import numpy as np\n",
    "import pandas as pd\n",
    "import matplotlib.pyplot as plt"
   ]
  },
  {
   "cell_type": "markdown",
   "id": "e93bae0b-df4f-4139-ab62-00436ef2e89d",
   "metadata": {},
   "source": [
    "# Load the Amazon reviews dataset"
   ]
  },
  {
   "cell_type": "code",
   "execution_count": 2,
   "id": "5606a8b6-b8a1-4e2d-b3c3-718044e3eb45",
   "metadata": {},
   "outputs": [],
   "source": [
    "amazon_data = get_output_amazon_data()"
   ]
  },
  {
   "cell_type": "markdown",
   "id": "e5da39c2-f630-4166-ad0e-edeebdd3c759",
   "metadata": {},
   "source": [
    "# Train test split \n",
    "\n",
    "We are going to perform an 80/20 training/validation data split on our dataset. The X data frame contains a single feature column, which is the review body text. The y data frame is going to be our product categories (12 unique ones), as established from our previous exploratory data analysis. \n",
    "\n",
    "We are using a random state of 42, to increase the reproducibility of the exact data split that we used to train the upcoming classifier model. "
   ]
  },
  {
   "cell_type": "code",
   "execution_count": 3,
   "id": "c146e210-ea11-420e-8064-9ad3e803b6d2",
   "metadata": {},
   "outputs": [],
   "source": [
    "X = amazon_data[\"review_body\"]\n",
    "y = amazon_data[\"product_category\"]\n",
    "\n",
    "X_train, X_valid, y_train, y_valid = train_test_split(X, y, test_size=0.2, random_state=42)"
   ]
  },
  {
   "cell_type": "markdown",
   "id": "0681f3f8-adda-4173-955e-302ead4e9177",
   "metadata": {},
   "source": [
    "# Creating the Naive Bayes Model pipeline, with a TF-IDF vectorizer stage\n",
    "\n",
    "TF-IDF (Term Frequency - Inverse Document Frequency): This is a **vectorization** strategy that employs a bag of tokens/words technique to find the documents, based on the relevance of a set of keywords in the text corpus of data we are vectorizing. It is a formulaic implementation, which is comprised of two moving parts: the **term frequency (TF)** and **inverse document frequency (IDF)**. To find the TF-IDF score of a term in a specific document, we take the product of these two values.\n",
    "\n",
    "Sklearn luckily provides this vectorizer out of the box, so we can stick it into the first stage of the pipeline of our naive Bayes model.\n",
    "\n",
    "We are using Naive Bayes because we have read from numerous online sources that it is a performant and versatile algorithm for text classification problems.\n",
    "\n",
    "*Note: We will go more in-depth regarding the mathematical reasoning of picking this vectorizer for our language model and model choice in the format report*"
   ]
  },
  {
   "cell_type": "code",
   "execution_count": 3,
   "id": "9e652e16-4f6c-4044-af63-e49e607bb203",
   "metadata": {
    "scrolled": true
   },
   "outputs": [],
   "source": [
    "bayes_clf = make_pipeline(\n",
    "    TfidfVectorizer(stop_words=\"english\", ngram_range=(1,1)),\n",
    "    MultinomialNB()\n",
    ") "
   ]
  },
  {
   "cell_type": "markdown",
   "id": "f707bc71-dcc5-4e13-9969-598477d740a4",
   "metadata": {},
   "source": [
    "# Tuning our hyperparameters with GridSearchCV\n",
    "\n",
    "The Multinomial Naive Bayes model has one key hyperparameter called the **alpha** value, which is a positive, floating point number. We are going to use  this Grid Search technique, using k-fold cross-validation to test various models/estimators on 8 different alpha values. \n",
    "\n",
    "Each alpha value will get 5 folds applied, based on the training data, and this refitting process gets repeated 8 times. 5 * 8 = 40 fits"
   ]
  },
  {
   "cell_type": "code",
   "execution_count": 5,
   "id": "1df77871-2872-407e-bf5c-6004e5c7be37",
   "metadata": {},
   "outputs": [
    {
     "name": "stdout",
     "output_type": "stream",
     "text": [
      "Fitting 5 folds for each of 8 candidates, totalling 40 fits\n",
      "[CV 1/5; 1/8] START multinomialnb__alpha=1e-05..................................\n",
      "[CV 1/5; 1/8] END multinomialnb__alpha=1e-05;, score=(train=0.762, test=0.694) total time=  23.6s\n",
      "[CV 2/5; 1/8] START multinomialnb__alpha=1e-05..................................\n",
      "[CV 2/5; 1/8] END multinomialnb__alpha=1e-05;, score=(train=0.762, test=0.695) total time=  33.6s\n",
      "[CV 3/5; 1/8] START multinomialnb__alpha=1e-05..................................\n",
      "[CV 3/5; 1/8] END multinomialnb__alpha=1e-05;, score=(train=0.762, test=0.694) total time=  23.6s\n",
      "[CV 4/5; 1/8] START multinomialnb__alpha=1e-05..................................\n",
      "[CV 4/5; 1/8] END multinomialnb__alpha=1e-05;, score=(train=0.762, test=0.696) total time=  30.7s\n",
      "[CV 5/5; 1/8] START multinomialnb__alpha=1e-05..................................\n",
      "[CV 5/5; 1/8] END multinomialnb__alpha=1e-05;, score=(train=0.762, test=0.695) total time=  24.1s\n",
      "[CV 1/5; 2/8] START multinomialnb__alpha=0.0001.................................\n",
      "[CV 1/5; 2/8] END multinomialnb__alpha=0.0001;, score=(train=0.761, test=0.698) total time=  23.5s\n",
      "[CV 2/5; 2/8] START multinomialnb__alpha=0.0001.................................\n",
      "[CV 2/5; 2/8] END multinomialnb__alpha=0.0001;, score=(train=0.761, test=0.699) total time=  28.7s\n",
      "[CV 3/5; 2/8] START multinomialnb__alpha=0.0001.................................\n",
      "[CV 3/5; 2/8] END multinomialnb__alpha=0.0001;, score=(train=0.762, test=0.698) total time=  29.6s\n",
      "[CV 4/5; 2/8] START multinomialnb__alpha=0.0001.................................\n",
      "[CV 4/5; 2/8] END multinomialnb__alpha=0.0001;, score=(train=0.761, test=0.700) total time=  24.9s\n",
      "[CV 5/5; 2/8] START multinomialnb__alpha=0.0001.................................\n",
      "[CV 5/5; 2/8] END multinomialnb__alpha=0.0001;, score=(train=0.761, test=0.699) total time=  24.7s\n",
      "[CV 1/5; 3/8] START multinomialnb__alpha=0.001..................................\n",
      "[CV 1/5; 3/8] END multinomialnb__alpha=0.001;, score=(train=0.760, test=0.703) total time=  34.6s\n",
      "[CV 2/5; 3/8] START multinomialnb__alpha=0.001..................................\n",
      "[CV 2/5; 3/8] END multinomialnb__alpha=0.001;, score=(train=0.760, test=0.704) total time=  24.0s\n",
      "[CV 3/5; 3/8] START multinomialnb__alpha=0.001..................................\n",
      "[CV 3/5; 3/8] END multinomialnb__alpha=0.001;, score=(train=0.760, test=0.703) total time=  25.1s\n",
      "[CV 4/5; 3/8] START multinomialnb__alpha=0.001..................................\n",
      "[CV 4/5; 3/8] END multinomialnb__alpha=0.001;, score=(train=0.760, test=0.705) total time=  29.7s\n",
      "[CV 5/5; 3/8] START multinomialnb__alpha=0.001..................................\n",
      "[CV 5/5; 3/8] END multinomialnb__alpha=0.001;, score=(train=0.760, test=0.703) total time=  25.3s\n",
      "[CV 1/5; 4/8] START multinomialnb__alpha=0.1....................................\n",
      "[CV 1/5; 4/8] END multinomialnb__alpha=0.1;, score=(train=0.749, test=0.714) total time=  34.4s\n",
      "[CV 2/5; 4/8] START multinomialnb__alpha=0.1....................................\n",
      "[CV 2/5; 4/8] END multinomialnb__alpha=0.1;, score=(train=0.749, test=0.716) total time=  31.0s\n",
      "[CV 3/5; 4/8] START multinomialnb__alpha=0.1....................................\n",
      "[CV 3/5; 4/8] END multinomialnb__alpha=0.1;, score=(train=0.749, test=0.714) total time=  30.4s\n",
      "[CV 4/5; 4/8] START multinomialnb__alpha=0.1....................................\n",
      "[CV 4/5; 4/8] END multinomialnb__alpha=0.1;, score=(train=0.749, test=0.715) total time=  30.9s\n",
      "[CV 5/5; 4/8] START multinomialnb__alpha=0.1....................................\n",
      "[CV 5/5; 4/8] END multinomialnb__alpha=0.1;, score=(train=0.749, test=0.714) total time=  27.6s\n",
      "[CV 1/5; 5/8] START multinomialnb__alpha=1......................................\n",
      "[CV 1/5; 5/8] END multinomialnb__alpha=1;, score=(train=0.732, test=0.713) total time=  33.4s\n",
      "[CV 2/5; 5/8] START multinomialnb__alpha=1......................................\n",
      "[CV 2/5; 5/8] END multinomialnb__alpha=1;, score=(train=0.731, test=0.714) total time=  37.3s\n",
      "[CV 3/5; 5/8] START multinomialnb__alpha=1......................................\n",
      "[CV 3/5; 5/8] END multinomialnb__alpha=1;, score=(train=0.732, test=0.713) total time=  35.6s\n",
      "[CV 4/5; 5/8] START multinomialnb__alpha=1......................................\n",
      "[CV 4/5; 5/8] END multinomialnb__alpha=1;, score=(train=0.731, test=0.714) total time=  38.2s\n",
      "[CV 5/5; 5/8] START multinomialnb__alpha=1......................................\n",
      "[CV 5/5; 5/8] END multinomialnb__alpha=1;, score=(train=0.732, test=0.713) total time=  24.9s\n",
      "[CV 1/5; 6/8] START multinomialnb__alpha=10.....................................\n",
      "[CV 1/5; 6/8] END multinomialnb__alpha=10;, score=(train=0.703, test=0.696) total time=  25.2s\n",
      "[CV 2/5; 6/8] START multinomialnb__alpha=10.....................................\n",
      "[CV 2/5; 6/8] END multinomialnb__alpha=10;, score=(train=0.703, test=0.696) total time=  24.1s\n",
      "[CV 3/5; 6/8] START multinomialnb__alpha=10.....................................\n",
      "[CV 3/5; 6/8] END multinomialnb__alpha=10;, score=(train=0.703, test=0.696) total time=  26.8s\n",
      "[CV 4/5; 6/8] START multinomialnb__alpha=10.....................................\n",
      "[CV 4/5; 6/8] END multinomialnb__alpha=10;, score=(train=0.703, test=0.696) total time=  29.1s\n",
      "[CV 5/5; 6/8] START multinomialnb__alpha=10.....................................\n",
      "[CV 5/5; 6/8] END multinomialnb__alpha=10;, score=(train=0.703, test=0.695) total time=  25.1s\n",
      "[CV 1/5; 7/8] START multinomialnb__alpha=100....................................\n",
      "[CV 1/5; 7/8] END multinomialnb__alpha=100;, score=(train=0.661, test=0.657) total time=  25.4s\n",
      "[CV 2/5; 7/8] START multinomialnb__alpha=100....................................\n",
      "[CV 2/5; 7/8] END multinomialnb__alpha=100;, score=(train=0.661, test=0.658) total time=  24.6s\n",
      "[CV 3/5; 7/8] START multinomialnb__alpha=100....................................\n",
      "[CV 3/5; 7/8] END multinomialnb__alpha=100;, score=(train=0.661, test=0.658) total time=  23.6s\n",
      "[CV 4/5; 7/8] START multinomialnb__alpha=100....................................\n",
      "[CV 4/5; 7/8] END multinomialnb__alpha=100;, score=(train=0.661, test=0.658) total time=  23.7s\n",
      "[CV 5/5; 7/8] START multinomialnb__alpha=100....................................\n",
      "[CV 5/5; 7/8] END multinomialnb__alpha=100;, score=(train=0.661, test=0.657) total time=  28.5s\n",
      "[CV 1/5; 8/8] START multinomialnb__alpha=1000...................................\n",
      "[CV 1/5; 8/8] END multinomialnb__alpha=1000;, score=(train=0.598, test=0.595) total time=  23.1s\n",
      "[CV 2/5; 8/8] START multinomialnb__alpha=1000...................................\n",
      "[CV 2/5; 8/8] END multinomialnb__alpha=1000;, score=(train=0.598, test=0.597) total time=  26.2s\n",
      "[CV 3/5; 8/8] START multinomialnb__alpha=1000...................................\n",
      "[CV 3/5; 8/8] END multinomialnb__alpha=1000;, score=(train=0.598, test=0.597) total time=  31.0s\n",
      "[CV 4/5; 8/8] START multinomialnb__alpha=1000...................................\n",
      "[CV 4/5; 8/8] END multinomialnb__alpha=1000;, score=(train=0.598, test=0.597) total time=  35.8s\n",
      "[CV 5/5; 8/8] START multinomialnb__alpha=1000...................................\n",
      "[CV 5/5; 8/8] END multinomialnb__alpha=1000;, score=(train=0.598, test=0.596) total time=  35.9s\n"
     ]
    },
    {
     "data": {
      "text/html": [
       "<style>#sk-container-id-1 {color: black;}#sk-container-id-1 pre{padding: 0;}#sk-container-id-1 div.sk-toggleable {background-color: white;}#sk-container-id-1 label.sk-toggleable__label {cursor: pointer;display: block;width: 100%;margin-bottom: 0;padding: 0.3em;box-sizing: border-box;text-align: center;}#sk-container-id-1 label.sk-toggleable__label-arrow:before {content: \"▸\";float: left;margin-right: 0.25em;color: #696969;}#sk-container-id-1 label.sk-toggleable__label-arrow:hover:before {color: black;}#sk-container-id-1 div.sk-estimator:hover label.sk-toggleable__label-arrow:before {color: black;}#sk-container-id-1 div.sk-toggleable__content {max-height: 0;max-width: 0;overflow: hidden;text-align: left;background-color: #f0f8ff;}#sk-container-id-1 div.sk-toggleable__content pre {margin: 0.2em;color: black;border-radius: 0.25em;background-color: #f0f8ff;}#sk-container-id-1 input.sk-toggleable__control:checked~div.sk-toggleable__content {max-height: 200px;max-width: 100%;overflow: auto;}#sk-container-id-1 input.sk-toggleable__control:checked~label.sk-toggleable__label-arrow:before {content: \"▾\";}#sk-container-id-1 div.sk-estimator input.sk-toggleable__control:checked~label.sk-toggleable__label {background-color: #d4ebff;}#sk-container-id-1 div.sk-label input.sk-toggleable__control:checked~label.sk-toggleable__label {background-color: #d4ebff;}#sk-container-id-1 input.sk-hidden--visually {border: 0;clip: rect(1px 1px 1px 1px);clip: rect(1px, 1px, 1px, 1px);height: 1px;margin: -1px;overflow: hidden;padding: 0;position: absolute;width: 1px;}#sk-container-id-1 div.sk-estimator {font-family: monospace;background-color: #f0f8ff;border: 1px dotted black;border-radius: 0.25em;box-sizing: border-box;margin-bottom: 0.5em;}#sk-container-id-1 div.sk-estimator:hover {background-color: #d4ebff;}#sk-container-id-1 div.sk-parallel-item::after {content: \"\";width: 100%;border-bottom: 1px solid gray;flex-grow: 1;}#sk-container-id-1 div.sk-label:hover label.sk-toggleable__label {background-color: #d4ebff;}#sk-container-id-1 div.sk-serial::before {content: \"\";position: absolute;border-left: 1px solid gray;box-sizing: border-box;top: 0;bottom: 0;left: 50%;z-index: 0;}#sk-container-id-1 div.sk-serial {display: flex;flex-direction: column;align-items: center;background-color: white;padding-right: 0.2em;padding-left: 0.2em;position: relative;}#sk-container-id-1 div.sk-item {position: relative;z-index: 1;}#sk-container-id-1 div.sk-parallel {display: flex;align-items: stretch;justify-content: center;background-color: white;position: relative;}#sk-container-id-1 div.sk-item::before, #sk-container-id-1 div.sk-parallel-item::before {content: \"\";position: absolute;border-left: 1px solid gray;box-sizing: border-box;top: 0;bottom: 0;left: 50%;z-index: -1;}#sk-container-id-1 div.sk-parallel-item {display: flex;flex-direction: column;z-index: 1;position: relative;background-color: white;}#sk-container-id-1 div.sk-parallel-item:first-child::after {align-self: flex-end;width: 50%;}#sk-container-id-1 div.sk-parallel-item:last-child::after {align-self: flex-start;width: 50%;}#sk-container-id-1 div.sk-parallel-item:only-child::after {width: 0;}#sk-container-id-1 div.sk-dashed-wrapped {border: 1px dashed gray;margin: 0 0.4em 0.5em 0.4em;box-sizing: border-box;padding-bottom: 0.4em;background-color: white;}#sk-container-id-1 div.sk-label label {font-family: monospace;font-weight: bold;display: inline-block;line-height: 1.2em;}#sk-container-id-1 div.sk-label-container {text-align: center;}#sk-container-id-1 div.sk-container {/* jupyter's `normalize.less` sets `[hidden] { display: none; }` but bootstrap.min.css set `[hidden] { display: none !important; }` so we also need the `!important` here to be able to override the default hidden behavior on the sphinx rendered scikit-learn.org. See: https://github.com/scikit-learn/scikit-learn/issues/21755 */display: inline-block !important;position: relative;}#sk-container-id-1 div.sk-text-repr-fallback {display: none;}</style><div id=\"sk-container-id-1\" class=\"sk-top-container\"><div class=\"sk-text-repr-fallback\"><pre>GridSearchCV(cv=5,\n",
       "             estimator=Pipeline(steps=[(&#x27;tfidfvectorizer&#x27;,\n",
       "                                        TfidfVectorizer(stop_words=&#x27;english&#x27;)),\n",
       "                                       (&#x27;multinomialnb&#x27;, MultinomialNB())]),\n",
       "             n_jobs=1,\n",
       "             param_grid={&#x27;multinomialnb__alpha&#x27;: [1e-05, 0.0001, 0.001, 0.1, 1,\n",
       "                                                  10, 100, 1000]},\n",
       "             return_train_score=True, verbose=10)</pre><b>In a Jupyter environment, please rerun this cell to show the HTML representation or trust the notebook. <br />On GitHub, the HTML representation is unable to render, please try loading this page with nbviewer.org.</b></div><div class=\"sk-container\" hidden><div class=\"sk-item sk-dashed-wrapped\"><div class=\"sk-label-container\"><div class=\"sk-label sk-toggleable\"><input class=\"sk-toggleable__control sk-hidden--visually\" id=\"sk-estimator-id-1\" type=\"checkbox\" ><label for=\"sk-estimator-id-1\" class=\"sk-toggleable__label sk-toggleable__label-arrow\">GridSearchCV</label><div class=\"sk-toggleable__content\"><pre>GridSearchCV(cv=5,\n",
       "             estimator=Pipeline(steps=[(&#x27;tfidfvectorizer&#x27;,\n",
       "                                        TfidfVectorizer(stop_words=&#x27;english&#x27;)),\n",
       "                                       (&#x27;multinomialnb&#x27;, MultinomialNB())]),\n",
       "             n_jobs=1,\n",
       "             param_grid={&#x27;multinomialnb__alpha&#x27;: [1e-05, 0.0001, 0.001, 0.1, 1,\n",
       "                                                  10, 100, 1000]},\n",
       "             return_train_score=True, verbose=10)</pre></div></div></div><div class=\"sk-parallel\"><div class=\"sk-parallel-item\"><div class=\"sk-item\"><div class=\"sk-label-container\"><div class=\"sk-label sk-toggleable\"><input class=\"sk-toggleable__control sk-hidden--visually\" id=\"sk-estimator-id-2\" type=\"checkbox\" ><label for=\"sk-estimator-id-2\" class=\"sk-toggleable__label sk-toggleable__label-arrow\">estimator: Pipeline</label><div class=\"sk-toggleable__content\"><pre>Pipeline(steps=[(&#x27;tfidfvectorizer&#x27;, TfidfVectorizer(stop_words=&#x27;english&#x27;)),\n",
       "                (&#x27;multinomialnb&#x27;, MultinomialNB())])</pre></div></div></div><div class=\"sk-serial\"><div class=\"sk-item\"><div class=\"sk-serial\"><div class=\"sk-item\"><div class=\"sk-estimator sk-toggleable\"><input class=\"sk-toggleable__control sk-hidden--visually\" id=\"sk-estimator-id-3\" type=\"checkbox\" ><label for=\"sk-estimator-id-3\" class=\"sk-toggleable__label sk-toggleable__label-arrow\">TfidfVectorizer</label><div class=\"sk-toggleable__content\"><pre>TfidfVectorizer(stop_words=&#x27;english&#x27;)</pre></div></div></div><div class=\"sk-item\"><div class=\"sk-estimator sk-toggleable\"><input class=\"sk-toggleable__control sk-hidden--visually\" id=\"sk-estimator-id-4\" type=\"checkbox\" ><label for=\"sk-estimator-id-4\" class=\"sk-toggleable__label sk-toggleable__label-arrow\">MultinomialNB</label><div class=\"sk-toggleable__content\"><pre>MultinomialNB()</pre></div></div></div></div></div></div></div></div></div></div></div></div>"
      ],
      "text/plain": [
       "GridSearchCV(cv=5,\n",
       "             estimator=Pipeline(steps=[('tfidfvectorizer',\n",
       "                                        TfidfVectorizer(stop_words='english')),\n",
       "                                       ('multinomialnb', MultinomialNB())]),\n",
       "             n_jobs=1,\n",
       "             param_grid={'multinomialnb__alpha': [1e-05, 0.0001, 0.001, 0.1, 1,\n",
       "                                                  10, 100, 1000]},\n",
       "             return_train_score=True, verbose=10)"
      ]
     },
     "execution_count": 5,
     "metadata": {},
     "output_type": "execute_result"
    }
   ],
   "source": [
    "param_grid_bayes = {\"multinomialnb__alpha\": [0.00001, 0.0001, 0.001, 0.1, 1, 10, 100, 1000]}\n",
    "grid_clf = GridSearchCV(estimator=bayes_clf, param_grid=param_grid_bayes, cv=5, return_train_score=True, verbose=10, n_jobs=1)\n",
    "grid_clf.fit(X_train, y_train)"
   ]
  },
  {
   "cell_type": "markdown",
   "id": "31bbdcf8-784f-484e-b26d-43e9b74609bf",
   "metadata": {},
   "source": [
    "# Creating a table for the grid search mean test/training scores from the 5-folds for each alpha value"
   ]
  },
  {
   "cell_type": "code",
   "execution_count": 6,
   "id": "323965e1-d5f3-4f2a-80ad-3395cc5ea5f4",
   "metadata": {},
   "outputs": [
    {
     "data": {
      "text/html": [
       "<div>\n",
       "<style scoped>\n",
       "    .dataframe tbody tr th:only-of-type {\n",
       "        vertical-align: middle;\n",
       "    }\n",
       "\n",
       "    .dataframe tbody tr th {\n",
       "        vertical-align: top;\n",
       "    }\n",
       "\n",
       "    .dataframe thead th {\n",
       "        text-align: right;\n",
       "    }\n",
       "</style>\n",
       "<table border=\"1\" class=\"dataframe\">\n",
       "  <thead>\n",
       "    <tr style=\"text-align: right;\">\n",
       "      <th></th>\n",
       "      <th>alpha_value</th>\n",
       "      <th>mean_test_score</th>\n",
       "      <th>mean_train_score</th>\n",
       "    </tr>\n",
       "  </thead>\n",
       "  <tbody>\n",
       "    <tr>\n",
       "      <th>0</th>\n",
       "      <td>0.00001</td>\n",
       "      <td>0.694714</td>\n",
       "      <td>0.762311</td>\n",
       "    </tr>\n",
       "    <tr>\n",
       "      <th>1</th>\n",
       "      <td>0.00010</td>\n",
       "      <td>0.698859</td>\n",
       "      <td>0.761388</td>\n",
       "    </tr>\n",
       "    <tr>\n",
       "      <th>2</th>\n",
       "      <td>0.00100</td>\n",
       "      <td>0.703905</td>\n",
       "      <td>0.759740</td>\n",
       "    </tr>\n",
       "    <tr>\n",
       "      <th>3</th>\n",
       "      <td>0.10000</td>\n",
       "      <td>0.714732</td>\n",
       "      <td>0.748639</td>\n",
       "    </tr>\n",
       "    <tr>\n",
       "      <th>4</th>\n",
       "      <td>1.00000</td>\n",
       "      <td>0.713441</td>\n",
       "      <td>0.731531</td>\n",
       "    </tr>\n",
       "    <tr>\n",
       "      <th>5</th>\n",
       "      <td>10.00000</td>\n",
       "      <td>0.695869</td>\n",
       "      <td>0.703288</td>\n",
       "    </tr>\n",
       "    <tr>\n",
       "      <th>6</th>\n",
       "      <td>100.00000</td>\n",
       "      <td>0.657651</td>\n",
       "      <td>0.661085</td>\n",
       "    </tr>\n",
       "    <tr>\n",
       "      <th>7</th>\n",
       "      <td>1000.00000</td>\n",
       "      <td>0.596632</td>\n",
       "      <td>0.598193</td>\n",
       "    </tr>\n",
       "  </tbody>\n",
       "</table>\n",
       "</div>"
      ],
      "text/plain": [
       "   alpha_value  mean_test_score  mean_train_score\n",
       "0      0.00001         0.694714          0.762311\n",
       "1      0.00010         0.698859          0.761388\n",
       "2      0.00100         0.703905          0.759740\n",
       "3      0.10000         0.714732          0.748639\n",
       "4      1.00000         0.713441          0.731531\n",
       "5     10.00000         0.695869          0.703288\n",
       "6    100.00000         0.657651          0.661085\n",
       "7   1000.00000         0.596632          0.598193"
      ]
     },
     "execution_count": 6,
     "metadata": {},
     "output_type": "execute_result"
    }
   ],
   "source": [
    "cv_data = grid_clf.cv_results_\n",
    "cv_bayes_params = pd.DataFrame({\n",
    "    \"alpha_value\": [param[\"multinomialnb__alpha\"] for param in cv_data[\"params\"]],\n",
    "    \"mean_test_score\": cv_data[\"mean_test_score\"],\n",
    "    \"mean_train_score\": cv_data[\"mean_train_score\"]\n",
    "})\n",
    "\n",
    "cv_bayes_params"
   ]
  },
  {
   "cell_type": "markdown",
   "id": "49ac3150-6d28-44ec-b440-69608b4ad8c7",
   "metadata": {},
   "source": [
    "# Creating a plot to show the relationship between the alpha hyperparameter to the accuracy score metrics\n",
    "\n",
    "We want to pick the estimator of naive Bayes, with the alpha value that produces the highest testing/validation score from this Grid Search."
   ]
  },
  {
   "cell_type": "code",
   "execution_count": 7,
   "id": "cb0e22f0-5ba5-40da-8359-03e0764b186c",
   "metadata": {},
   "outputs": [
    {
     "data": {
      "image/png": "[encoded data removed]",
      "text/plain": [
       "<Figure size 1000x600 with 1 Axes>"
      ]
     },
     "metadata": {},
     "output_type": "display_data"
    }
   ],
   "source": [
    "plt.figure(figsize=(10, 6))\n",
    "plt.plot(cv_bayes_params[\"alpha_value\"], cv_bayes_params[\"mean_test_score\"], label=\"Mean Test Scores\", marker='o')\n",
    "plt.plot(cv_bayes_params[\"alpha_value\"], cv_bayes_params[\"mean_train_score\"], label=\"Mean Train Scores\", marker='o')\n",
    "plt.xscale('log')\n",
    "plt.xlabel('Alpha Parameter')\n",
    "plt.ylabel('Mean Score')\n",
    "plt.title('Mean Test Scores and Mean Train Scores vs Alpha Parameter')\n",
    "plt.legend()\n",
    "plt.grid(True)\n",
    "plt.show()"
   ]
  },
  {
   "cell_type": "markdown",
   "id": "192a7097-b313-4174-994d-73d6f54d100a",
   "metadata": {},
   "source": [
    "It is clear from the plot that the alpha value of 0.10 has the highest mean testing score of **0.714732**\n",
    "\n",
    "We can also see that our Naive Bayes model isn't overfitting by a large margin, due to the minimal difference between the mean training and test scores for this alpha value. The difference is less than 5%.\n",
    "\n",
    "We have now found our **best** classifier, through this exhaustive grid search on this classification model."
   ]
  },
  {
   "cell_type": "code",
   "execution_count": 8,
   "id": "e1d056b1-6f7d-4dc7-978c-3f0dabfd8dcb",
   "metadata": {},
   "outputs": [],
   "source": [
    "best_bayes_model = grid_clf.best_estimator_"
   ]
  },
  {
   "cell_type": "code",
   "execution_count": 9,
   "id": "01e5a945-50d8-4963-a90d-f3c3f3a54a5f",
   "metadata": {},
   "outputs": [
    {
     "data": {
      "text/plain": [
       "0.7165638087817318"
      ]
     },
     "execution_count": 9,
     "metadata": {},
     "output_type": "execute_result"
    }
   ],
   "source": [
    "best_bayes_model.score(X_valid, y_valid)"
   ]
  },
  {
   "cell_type": "markdown",
   "id": "723d6549-af0c-4ebc-afe9-9741fd85f23e",
   "metadata": {},
   "source": [
    "# Testing our product category classifier on garbage and made-up Amazon reviews, from the 12 unique products we know of"
   ]
  },
  {
   "cell_type": "code",
   "execution_count": 10,
   "id": "c6f0f957-4878-480b-8845-872914d27d14",
   "metadata": {},
   "outputs": [
    {
     "data": {
      "text/html": [
       "<div>\n",
       "<style scoped>\n",
       "    .dataframe tbody tr th:only-of-type {\n",
       "        vertical-align: middle;\n",
       "    }\n",
       "\n",
       "    .dataframe tbody tr th {\n",
       "        vertical-align: top;\n",
       "    }\n",
       "\n",
       "    .dataframe thead th {\n",
       "        text-align: right;\n",
       "    }\n",
       "</style>\n",
       "<table border=\"1\" class=\"dataframe\">\n",
       "  <thead>\n",
       "    <tr style=\"text-align: right;\">\n",
       "      <th></th>\n",
       "      <th>review_body</th>\n",
       "      <th>prediction</th>\n",
       "    </tr>\n",
       "  </thead>\n",
       "  <tbody>\n",
       "    <tr>\n",
       "      <th>0</th>\n",
       "      <td>runs perfectly on machine, and i am free of vi...</td>\n",
       "      <td>Software</td>\n",
       "    </tr>\n",
       "    <tr>\n",
       "      <th>1</th>\n",
       "      <td>my feet were too big for these! i want a refun...</td>\n",
       "      <td>Shoes</td>\n",
       "    </tr>\n",
       "    <tr>\n",
       "      <th>2</th>\n",
       "      <td>excellent storyline and gameplay mechanics. to...</td>\n",
       "      <td>Video Games</td>\n",
       "    </tr>\n",
       "    <tr>\n",
       "      <th>3</th>\n",
       "      <td>the engine nearly blew up and gas tanking was ...</td>\n",
       "      <td>Automotive</td>\n",
       "    </tr>\n",
       "    <tr>\n",
       "      <th>4</th>\n",
       "      <td>me and my partner loved the experience. it fel...</td>\n",
       "      <td>Personal_Care_Appliances</td>\n",
       "    </tr>\n",
       "    <tr>\n",
       "      <th>5</th>\n",
       "      <td>a nice decor for my backyard. my family loves ...</td>\n",
       "      <td>Furniture</td>\n",
       "    </tr>\n",
       "    <tr>\n",
       "      <th>6</th>\n",
       "      <td>very pretty dress. i love the colors. will def...</td>\n",
       "      <td>Apparel</td>\n",
       "    </tr>\n",
       "    <tr>\n",
       "      <th>7</th>\n",
       "      <td>i am totally lost in time by this beauty. i lo...</td>\n",
       "      <td>Watches</td>\n",
       "    </tr>\n",
       "    <tr>\n",
       "      <th>8</th>\n",
       "      <td>i don't need a handyman anymore! this screwdri...</td>\n",
       "      <td>Tools</td>\n",
       "    </tr>\n",
       "    <tr>\n",
       "      <th>9</th>\n",
       "      <td>bounces really well! i am scoring buckets with...</td>\n",
       "      <td>Sports</td>\n",
       "    </tr>\n",
       "    <tr>\n",
       "      <th>10</th>\n",
       "      <td>tasted amazing, and it saved me the trip to th...</td>\n",
       "      <td>Grocery</td>\n",
       "    </tr>\n",
       "    <tr>\n",
       "      <th>11</th>\n",
       "      <td>horrible battery life. takes so long to boot u...</td>\n",
       "      <td>Electronics</td>\n",
       "    </tr>\n",
       "  </tbody>\n",
       "</table>\n",
       "</div>"
      ],
      "text/plain": [
       "                                          review_body  \\\n",
       "0   runs perfectly on machine, and i am free of vi...   \n",
       "1   my feet were too big for these! i want a refun...   \n",
       "2   excellent storyline and gameplay mechanics. to...   \n",
       "3   the engine nearly blew up and gas tanking was ...   \n",
       "4   me and my partner loved the experience. it fel...   \n",
       "5   a nice decor for my backyard. my family loves ...   \n",
       "6   very pretty dress. i love the colors. will def...   \n",
       "7   i am totally lost in time by this beauty. i lo...   \n",
       "8   i don't need a handyman anymore! this screwdri...   \n",
       "9   bounces really well! i am scoring buckets with...   \n",
       "10  tasted amazing, and it saved me the trip to th...   \n",
       "11  horrible battery life. takes so long to boot u...   \n",
       "\n",
       "                  prediction  \n",
       "0                   Software  \n",
       "1                      Shoes  \n",
       "2                Video Games  \n",
       "3                 Automotive  \n",
       "4   Personal_Care_Appliances  \n",
       "5                  Furniture  \n",
       "6                    Apparel  \n",
       "7                    Watches  \n",
       "8                      Tools  \n",
       "9                     Sports  \n",
       "10                   Grocery  \n",
       "11               Electronics  "
      ]
     },
     "execution_count": 10,
     "metadata": {},
     "output_type": "execute_result"
    }
   ],
   "source": [
    "made_up_testing_reviews = [\n",
    "    \"runs perfectly on machine, and i am free of viruses now! a instant 5 stars for me\",\n",
    "    \"my feet were too big for these! i want a refund! please have more sizes to pick from\",\n",
    "    \"excellent storyline and gameplay mechanics. too bad the bosses are too hard\",\n",
    "    \"the engine nearly blew up and gas tanking was leaking so hard\",\n",
    "    \"me and my partner loved the experience. it felt extremely sensual\",\n",
    "    \"a nice decor for my backyard. my family loves to have dinner on this delicate wooden beauty\",\n",
    "    \"very pretty dress. i love the colors. will definitely be buying from here again in the future\",\n",
    "    \"i am totally lost in time by this beauty. i love the golden color that it shines off my wrist\",\n",
    "    \"i don't need a handyman anymore! this screwdriver saved me tons of time in drilling random holes into my house\",\n",
    "    \"bounces really well! i am scoring buckets with this amazing invention. will definitely purchase for other games\",\n",
    "    \"tasted amazing, and it saved me the trip to the store\",\n",
    "    \"horrible battery life. takes so long to boot up. the specs are absolutely trash\"\n",
    "]\n",
    "\n",
    "made_up_product_categories = best_bayes_model.predict(made_up_testing_reviews)\n",
    "made_up_predictions_table = pd.DataFrame({\n",
    "    \"review_body\": made_up_testing_reviews,\n",
    "    \"prediction\": made_up_product_categories\n",
    "})\n",
    "\n",
    "made_up_predictions_table"
   ]
  },
  {
   "cell_type": "markdown",
   "id": "72aa578a-7d34-4fc2-83c2-365e9ea16174",
   "metadata": {},
   "source": [
    "# Interpretation\n",
    "\n",
    "Logically, it seems that our model has predicted each of these 12 categories correctly. The model is most likely able to weigh the relevance of certain keywords in the entire corpus of training reviews and be able to associate conditional probabilities of certain words with the reviews of certain product categories.\n",
    "\n",
    "Ex: **engine** and **battery life** are most likely something a human reviewer would use when leaving a real review on the Amazon store page for the automotive and electronics categories respectively."
   ]
  },
  {
   "cell_type": "markdown",
   "id": "e4be5112-8b12-48df-92fa-de910fc5ea88",
   "metadata": {},
   "source": [
    "# Save a compressed model to disk, so it can be reused in external applications/scripts/programs"
   ]
  },
  {
   "cell_type": "code",
   "execution_count": 38,
   "id": "e37143bd-4726-4050-b62c-e02bed0af16e",
   "metadata": {},
   "outputs": [],
   "source": [
    "save_model(best_bayes_model, \"product_category_bayes.joblib.gz\")"
   ]
  }
 ],
 "metadata": {
  "kernelspec": {
   "display_name": "Python 3 (ipykernel)",
   "language": "python",
   "name": "python3"
  },
  "language_info": {
   "codemirror_mode": {
    "name": "ipython",
    "version": 3
   },
   "file_extension": ".py",
   "mimetype": "text/x-python",
   "name": "python",
   "nbconvert_exporter": "python",
   "pygments_lexer": "ipython3",
   "version": "3.11.2"
  }
 },
 "nbformat": 4,
 "nbformat_minor": 5
}
