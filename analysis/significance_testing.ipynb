{
 "cells": [
  {
   "cell_type": "markdown",
   "metadata": {},
   "source": [
    "# Significance testing on Compound Sentiment scores of Amazon reviews\n",
    "\n",
    "We are going to perform a series of statistical tests, whether they may be parametric or non-parametric tests on the compounding scores, computed from review bodies, using the Vader library.\n",
    "\n",
    "**Objective: Is the population mean of the compound sentiment for Amazon product reviews different between varying product categories?**\n",
    "\n",
    "*Note: We have 12 unique categories inside our collective Amazon reviews dataset*"
   ]
  },
  {
   "cell_type": "code",
   "execution_count": 12,
   "metadata": {},
   "outputs": [],
   "source": [
    "from read_data import get_output_amazon_data\n",
    "from typing import List, Dict\n",
    "import matplotlib.pyplot as plt\n",
    "import numpy as np\n",
    "from scipy import stats\n",
    "import pandas as pd\n",
    "import itertools"
   ]
  },
  {
   "cell_type": "markdown",
   "metadata": {},
   "source": [
    "# Load the Amazon reviews dataset"
   ]
  },
  {
   "cell_type": "code",
   "execution_count": 16,
   "metadata": {},
   "outputs": [
    {
     "data": {
      "text/plain": [
       "(1129386, 8)"
      ]
     },
     "execution_count": 16,
     "metadata": {},
     "output_type": "execute_result"
    }
   ],
   "source": [
    "amazon_reviews = get_output_amazon_data()\n",
    "unique_categories = amazon_reviews[\"product_category\"].unique()\n",
    "amazon_reviews.shape"
   ]
  },
  {
   "cell_type": "markdown",
   "metadata": {},
   "source": [
    "# Checking normality of review body compounding sentiment scores\n",
    "\n",
    "We are going to make a histogram, to illustrate over 1 million reviews from varying product categories"
   ]
  },
  {
   "cell_type": "code",
   "execution_count": 15,
   "metadata": {},
   "outputs": [
    {
     "data": {
      "image/png": "[encoded data removed]",
      "text/plain": [
       "<Figure size 640x480 with 1 Axes>"
      ]
     },
     "metadata": {},
     "output_type": "display_data"
    }
   ],
   "source": [
    "plt.hist(x=amazon_reviews[\"review_body_compound_score\"], bins=20)\n",
    "plt.xlabel(\"Compound sentiment score of reviews\")\n",
    "plt.ylabel(\"Number of reviews\")\n",
    "plt.title(\"Distribution of compound sentiment scores\")\n",
    "plt.show()"
   ]
  },
  {
   "cell_type": "markdown",
   "metadata": {},
   "source": [
    "# Distribution interpretation\n",
    "Clearly, the compound sentiment scores of the reviews aren't normally distributed from this histogram plot above. It seems a large majority of reviews are skewed towards positivity in terms of their text content. \n",
    "\n",
    "A reminder that if the compound score >= 0.05, then it is considered **positive**."
   ]
  },
  {
   "cell_type": "markdown",
   "metadata": {},
   "source": [
    "# Normality test from scipy.stats module\n",
    "Let's do a normality test to confirm our visual interpretation, that the compound scores aren't normal.\n",
    "\n",
    "We can also do normality tests on each individual product category's reviews."
   ]
  },
  {
   "cell_type": "code",
   "execution_count": 22,
   "metadata": {},
   "outputs": [
    {
     "name": "stdout",
     "output_type": "stream",
     "text": [
      "The p-value of the compound scores on the entire dataset is: 0.0\n"
     ]
    },
    {
     "data": {
      "text/html": [
       "<div>\n",
       "<style scoped>\n",
       "    .dataframe tbody tr th:only-of-type {\n",
       "        vertical-align: middle;\n",
       "    }\n",
       "\n",
       "    .dataframe tbody tr th {\n",
       "        vertical-align: top;\n",
       "    }\n",
       "\n",
       "    .dataframe thead th {\n",
       "        text-align: right;\n",
       "    }\n",
       "</style>\n",
       "<table border=\"1\" class=\"dataframe\">\n",
       "  <thead>\n",
       "    <tr style=\"text-align: right;\">\n",
       "      <th></th>\n",
       "      <th>product_category</th>\n",
       "      <th>p-value</th>\n",
       "      <th>Is Normal?</th>\n",
       "    </tr>\n",
       "  </thead>\n",
       "  <tbody>\n",
       "    <tr>\n",
       "      <th>0</th>\n",
       "      <td>Automotive</td>\n",
       "      <td>0.0</td>\n",
       "      <td>No</td>\n",
       "    </tr>\n",
       "    <tr>\n",
       "      <th>1</th>\n",
       "      <td>Tools</td>\n",
       "      <td>0.0</td>\n",
       "      <td>No</td>\n",
       "    </tr>\n",
       "    <tr>\n",
       "      <th>2</th>\n",
       "      <td>Apparel</td>\n",
       "      <td>0.0</td>\n",
       "      <td>No</td>\n",
       "    </tr>\n",
       "    <tr>\n",
       "      <th>3</th>\n",
       "      <td>Shoes</td>\n",
       "      <td>0.0</td>\n",
       "      <td>No</td>\n",
       "    </tr>\n",
       "    <tr>\n",
       "      <th>4</th>\n",
       "      <td>Software</td>\n",
       "      <td>0.0</td>\n",
       "      <td>No</td>\n",
       "    </tr>\n",
       "    <tr>\n",
       "      <th>5</th>\n",
       "      <td>Watches</td>\n",
       "      <td>0.0</td>\n",
       "      <td>No</td>\n",
       "    </tr>\n",
       "    <tr>\n",
       "      <th>6</th>\n",
       "      <td>Video Games</td>\n",
       "      <td>0.0</td>\n",
       "      <td>No</td>\n",
       "    </tr>\n",
       "    <tr>\n",
       "      <th>7</th>\n",
       "      <td>Sports</td>\n",
       "      <td>0.0</td>\n",
       "      <td>No</td>\n",
       "    </tr>\n",
       "    <tr>\n",
       "      <th>8</th>\n",
       "      <td>Electronics</td>\n",
       "      <td>0.0</td>\n",
       "      <td>No</td>\n",
       "    </tr>\n",
       "    <tr>\n",
       "      <th>9</th>\n",
       "      <td>Grocery</td>\n",
       "      <td>0.0</td>\n",
       "      <td>No</td>\n",
       "    </tr>\n",
       "    <tr>\n",
       "      <th>10</th>\n",
       "      <td>Personal_Care_Appliances</td>\n",
       "      <td>0.0</td>\n",
       "      <td>No</td>\n",
       "    </tr>\n",
       "    <tr>\n",
       "      <th>11</th>\n",
       "      <td>Furniture</td>\n",
       "      <td>0.0</td>\n",
       "      <td>No</td>\n",
       "    </tr>\n",
       "  </tbody>\n",
       "</table>\n",
       "</div>"
      ],
      "text/plain": [
       "            product_category  p-value Is Normal?\n",
       "0                 Automotive      0.0         No\n",
       "1                      Tools      0.0         No\n",
       "2                    Apparel      0.0         No\n",
       "3                      Shoes      0.0         No\n",
       "4                   Software      0.0         No\n",
       "5                    Watches      0.0         No\n",
       "6                Video Games      0.0         No\n",
       "7                     Sports      0.0         No\n",
       "8                Electronics      0.0         No\n",
       "9                    Grocery      0.0         No\n",
       "10  Personal_Care_Appliances      0.0         No\n",
       "11                 Furniture      0.0         No"
      ]
     },
     "execution_count": 22,
     "metadata": {},
     "output_type": "execute_result"
    }
   ],
   "source": [
    "entire_data_normality_result = stats.normaltest(amazon_reviews[\"review_body_compound_score\"])\n",
    "print(f\"The p-value of the compound scores on the entire dataset is: {entire_data_normality_result.pvalue}\")\n",
    "\n",
    "passes_normality: List[str] = []\n",
    "p_values: List[float] = []\n",
    "\n",
    "for product_category in unique_categories:\n",
    "    product_review_compound_scores = amazon_reviews[amazon_reviews[\"product_category\"] == product_category][\"review_body_compound_score\"]\n",
    "    test_result = stats.normaltest(product_review_compound_scores)\n",
    "\n",
    "    p_values.append(test_result.pvalue)\n",
    "    passes_normality.append(\"Yes\" if test_result.pvalue >= 0.05 else \"No\")\n",
    "\n",
    "normality_by_product = pd.DataFrame({\n",
    "    \"product_category\": unique_categories,\n",
    "    \"p-value\": p_values,\n",
    "    \"Is Normal?\": passes_normality\n",
    "})\n",
    "normality_by_product"
   ]
  },
  {
   "cell_type": "markdown",
   "metadata": {},
   "source": [
    "# Which test should we use to answer our objective in this analysis? \n",
    "The normality test has clearly failed for the compound scores of each product category, and statistical tests such as t-testing require/assume that normality and equal variance conditions are satisfied. \n",
    "\n",
    "The best choice is to perform a non-parametric test, called **Mann-whitney U-test**."
   ]
  },
  {
   "cell_type": "markdown",
   "metadata": {},
   "source": [
    "\n",
    "# U-test (Mann-Whitney) on all the pairs of compound sentiment scores on the 12 product categories\n",
    "\n",
    "Since we know that customer reviews on Amazon products inside our collective data frame aren't normal, it is a good idea to try a commonly used non-parametric significance test called the **Mann-Whitney U-test**.\n",
    "\n",
    "In the cell below, we can generate all the possible pairs of product categories using the combinations functions inside the itertools library that is built into Python. The r-value of the combinations is 2, as each mean comparison has 2 groups obviously. \n",
    "\n",
    "In order to aggregate these p-values into a data structure, there is a data frame that holds **Product Category A**, **Product Category B**, **p-value from the U-test**, and **means different**, if the p-value is less than the significance level of 0.05. "
   ]
  },
  {
   "cell_type": "code",
   "execution_count": 23,
   "metadata": {},
   "outputs": [
    {
     "data": {
      "text/html": [
       "<div>\n",
       "<style scoped>\n",
       "    .dataframe tbody tr th:only-of-type {\n",
       "        vertical-align: middle;\n",
       "    }\n",
       "\n",
       "    .dataframe tbody tr th {\n",
       "        vertical-align: top;\n",
       "    }\n",
       "\n",
       "    .dataframe thead th {\n",
       "        text-align: right;\n",
       "    }\n",
       "</style>\n",
       "<table border=\"1\" class=\"dataframe\">\n",
       "  <thead>\n",
       "    <tr style=\"text-align: right;\">\n",
       "      <th></th>\n",
       "      <th>Product Category A</th>\n",
       "      <th>Product Category B</th>\n",
       "      <th>p-value</th>\n",
       "      <th>Means different?</th>\n",
       "    </tr>\n",
       "  </thead>\n",
       "  <tbody>\n",
       "    <tr>\n",
       "      <th>0</th>\n",
       "      <td>Automotive</td>\n",
       "      <td>Tools</td>\n",
       "      <td>2.625003e-03</td>\n",
       "      <td>Yes</td>\n",
       "    </tr>\n",
       "    <tr>\n",
       "      <th>1</th>\n",
       "      <td>Automotive</td>\n",
       "      <td>Apparel</td>\n",
       "      <td>0.000000e+00</td>\n",
       "      <td>Yes</td>\n",
       "    </tr>\n",
       "    <tr>\n",
       "      <th>2</th>\n",
       "      <td>Automotive</td>\n",
       "      <td>Shoes</td>\n",
       "      <td>0.000000e+00</td>\n",
       "      <td>Yes</td>\n",
       "    </tr>\n",
       "    <tr>\n",
       "      <th>3</th>\n",
       "      <td>Automotive</td>\n",
       "      <td>Software</td>\n",
       "      <td>5.118950e-66</td>\n",
       "      <td>Yes</td>\n",
       "    </tr>\n",
       "    <tr>\n",
       "      <th>4</th>\n",
       "      <td>Automotive</td>\n",
       "      <td>Watches</td>\n",
       "      <td>0.000000e+00</td>\n",
       "      <td>Yes</td>\n",
       "    </tr>\n",
       "    <tr>\n",
       "      <th>...</th>\n",
       "      <td>...</td>\n",
       "      <td>...</td>\n",
       "      <td>...</td>\n",
       "      <td>...</td>\n",
       "    </tr>\n",
       "    <tr>\n",
       "      <th>61</th>\n",
       "      <td>Electronics</td>\n",
       "      <td>Personal_Care_Appliances</td>\n",
       "      <td>5.681799e-40</td>\n",
       "      <td>Yes</td>\n",
       "    </tr>\n",
       "    <tr>\n",
       "      <th>62</th>\n",
       "      <td>Electronics</td>\n",
       "      <td>Furniture</td>\n",
       "      <td>8.808216e-205</td>\n",
       "      <td>Yes</td>\n",
       "    </tr>\n",
       "    <tr>\n",
       "      <th>63</th>\n",
       "      <td>Grocery</td>\n",
       "      <td>Personal_Care_Appliances</td>\n",
       "      <td>0.000000e+00</td>\n",
       "      <td>Yes</td>\n",
       "    </tr>\n",
       "    <tr>\n",
       "      <th>64</th>\n",
       "      <td>Grocery</td>\n",
       "      <td>Furniture</td>\n",
       "      <td>1.259608e-05</td>\n",
       "      <td>Yes</td>\n",
       "    </tr>\n",
       "    <tr>\n",
       "      <th>65</th>\n",
       "      <td>Personal_Care_Appliances</td>\n",
       "      <td>Furniture</td>\n",
       "      <td>0.000000e+00</td>\n",
       "      <td>Yes</td>\n",
       "    </tr>\n",
       "  </tbody>\n",
       "</table>\n",
       "<p>66 rows × 4 columns</p>\n",
       "</div>"
      ],
      "text/plain": [
       "          Product Category A        Product Category B        p-value  \\\n",
       "0                 Automotive                     Tools   2.625003e-03   \n",
       "1                 Automotive                   Apparel   0.000000e+00   \n",
       "2                 Automotive                     Shoes   0.000000e+00   \n",
       "3                 Automotive                  Software   5.118950e-66   \n",
       "4                 Automotive                   Watches   0.000000e+00   \n",
       "..                       ...                       ...            ...   \n",
       "61               Electronics  Personal_Care_Appliances   5.681799e-40   \n",
       "62               Electronics                 Furniture  8.808216e-205   \n",
       "63                   Grocery  Personal_Care_Appliances   0.000000e+00   \n",
       "64                   Grocery                 Furniture   1.259608e-05   \n",
       "65  Personal_Care_Appliances                 Furniture   0.000000e+00   \n",
       "\n",
       "   Means different?  \n",
       "0               Yes  \n",
       "1               Yes  \n",
       "2               Yes  \n",
       "3               Yes  \n",
       "4               Yes  \n",
       "..              ...  \n",
       "61              Yes  \n",
       "62              Yes  \n",
       "63              Yes  \n",
       "64              Yes  \n",
       "65              Yes  \n",
       "\n",
       "[66 rows x 4 columns]"
      ]
     },
     "execution_count": 23,
     "metadata": {},
     "output_type": "execute_result"
    }
   ],
   "source": [
    "category_combinations = list(itertools.combinations(unique_categories, 2))\n",
    "product_dfs: Dict[str, pd.DataFrame] = {unique_category : amazon_reviews[amazon_reviews[\"product_category\"] == unique_category] \n",
    "                                        for unique_category in unique_categories}\n",
    "\n",
    "category_a: List[str] = []\n",
    "category_b: List[str] = []\n",
    "p_values: List[float] = []\n",
    "means_different: List[str] = []\n",
    "\n",
    "for item_a, item_b in category_combinations:\n",
    "    compound_scores_a = product_dfs[item_a][\"review_body_compound_score\"].sort_values()\n",
    "    compound_scores_b = product_dfs[item_b][\"review_body_compound_score\"].sort_values()\n",
    "\n",
    "    u_test_result = stats.mannwhitneyu(compound_scores_a, compound_scores_b)\n",
    "    p_value = u_test_result.pvalue\n",
    "\n",
    "    category_a.append(item_a)\n",
    "    category_b.append(item_b)\n",
    "    p_values.append(p_value)\n",
    "    means_different.append(\"Yes\" if p_value < 0.05 else \"No\")\n",
    "\n",
    "u_tests_table = pd.DataFrame({\n",
    "    \"Product Category A\": category_a,\n",
    "    \"Product Category B\": category_b,\n",
    "    \"p-value\": p_values,\n",
    "    \"Means different?\": means_different\n",
    "})\n",
    "\n",
    "u_tests_table"
   ]
  },
  {
   "cell_type": "code",
   "execution_count": 24,
   "metadata": {},
   "outputs": [
    {
     "data": {
      "text/html": [
       "<div>\n",
       "<style scoped>\n",
       "    .dataframe tbody tr th:only-of-type {\n",
       "        vertical-align: middle;\n",
       "    }\n",
       "\n",
       "    .dataframe tbody tr th {\n",
       "        vertical-align: top;\n",
       "    }\n",
       "\n",
       "    .dataframe thead th {\n",
       "        text-align: right;\n",
       "    }\n",
       "</style>\n",
       "<table border=\"1\" class=\"dataframe\">\n",
       "  <thead>\n",
       "    <tr style=\"text-align: right;\">\n",
       "      <th></th>\n",
       "      <th>Means different?</th>\n",
       "    </tr>\n",
       "    <tr>\n",
       "      <th>Means different?</th>\n",
       "      <th></th>\n",
       "    </tr>\n",
       "  </thead>\n",
       "  <tbody>\n",
       "    <tr>\n",
       "      <th>Yes</th>\n",
       "      <td>66</td>\n",
       "    </tr>\n",
       "  </tbody>\n",
       "</table>\n",
       "</div>"
      ],
      "text/plain": [
       "                  Means different?\n",
       "Means different?                  \n",
       "Yes                             66"
      ]
     },
     "execution_count": 24,
     "metadata": {},
     "output_type": "execute_result"
    }
   ],
   "source": [
    "u_tests_table.groupby(by=\"Means different?\").agg({\"Means different?\": \"count\"})"
   ]
  },
  {
   "cell_type": "markdown",
   "metadata": {},
   "source": [
    "# Conclusion\n",
    "It seems that based on the results of the non-parametric Mann-Whitney test, the mean compound sentiment scores of different product categories on Amazon are different. This suggests that buyers may rate things to a different level of positivity, depending on the type of product they are buying. \n",
    "\n",
    "We are only discussing review body positivity because it seems that a large majority of reviews in the dataset are skewed toward positive compounds "
   ]
  }
 ],
 "metadata": {
  "kernelspec": {
   "display_name": "Python 3 (ipykernel)",
   "language": "python",
   "name": "python3"
  },
  "language_info": {
   "codemirror_mode": {
    "name": "ipython",
    "version": 3
   },
   "file_extension": ".py",
   "mimetype": "text/x-python",
   "name": "python",
   "nbconvert_exporter": "python",
   "pygments_lexer": "ipython3",
   "version": "3.11.2"
  }
 },
 "nbformat": 4,
 "nbformat_minor": 4
}
