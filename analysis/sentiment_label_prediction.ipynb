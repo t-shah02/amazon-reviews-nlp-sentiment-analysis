{
 "cells": [
  {
   "cell_type": "markdown",
   "id": "4451aa9b",
   "metadata": {},
   "source": [
    "# Predict a Sentiment Label From an Amazon Review\n",
    "Train a model that can predict a sentiment label given a review string"
   ]
  },
  {
   "cell_type": "code",
   "execution_count": 1,
   "id": "59b522dd",
   "metadata": {},
   "outputs": [],
   "source": [
    "from sklearn.model_selection import train_test_split\n",
    "from sklearn.naive_bayes import MultinomialNB\n",
    "import pandas as pd\n",
    "from read_data import get_output_amazon_data\n",
    "from sklearn.feature_extraction.text import CountVectorizer\n",
    "from sklearn.pipeline import make_pipeline\n",
    "from read_ml_models import save_model"
   ]
  },
  {
   "cell_type": "markdown",
   "id": "e36965ee",
   "metadata": {},
   "source": [
    "## Read in the Amazon dataset"
   ]
  },
  {
   "cell_type": "code",
   "execution_count": 2,
   "id": "055fd0ca",
   "metadata": {},
   "outputs": [],
   "source": [
    "amazon_reviews = get_output_amazon_data()"
   ]
  },
  {
   "cell_type": "markdown",
   "id": "b119a332",
   "metadata": {},
   "source": [
    "## Use Naive Bayes since it has the highest score"
   ]
  },
  {
   "cell_type": "code",
   "execution_count": 3,
   "id": "52568aee",
   "metadata": {},
   "outputs": [],
   "source": [
    "def modelNB(Xt,Yt):\n",
    "    nbm = make_pipeline(\n",
    "      CountVectorizer(),\n",
    "      MultinomialNB()\n",
    "    )\n",
    "    return nbm.fit(Xt,Yt)"
   ]
  },
  {
   "cell_type": "markdown",
   "id": "8a7fbf13",
   "metadata": {},
   "source": [
    "## Train the model on the X and Y dataset.\n",
    "We run train test split to split the data between training and testing data and train a naive bayes model based on this data."
   ]
  },
  {
   "cell_type": "code",
   "execution_count": 11,
   "id": "34acf923",
   "metadata": {},
   "outputs": [],
   "source": [
    "def modeler(X,Y):\n",
    "    X_train, X_test, Y_train, Y_test = train_test_split(X,Y, test_size=0.2, random_state=42)\n",
    "    modelnb = modelNB(X_train, Y_train)\n",
    "    return modelnb, X_test, Y_test"
   ]
  },
  {
   "cell_type": "code",
   "execution_count": 12,
   "id": "11c83250",
   "metadata": {},
   "outputs": [],
   "source": [
    "Xv = amazon_reviews['review_body']\n",
    "Yv = amazon_reviews['review_body_sentiment_label']"
   ]
  },
  {
   "cell_type": "code",
   "execution_count": 13,
   "id": "1b422698",
   "metadata": {},
   "outputs": [],
   "source": [
    "model, Xt, Yt = modeler(Xv, Yv)"
   ]
  },
  {
   "cell_type": "code",
   "execution_count": 14,
   "id": "dff1360b",
   "metadata": {},
   "outputs": [
    {
     "data": {
      "text/plain": [
       "0.8338970594745836"
      ]
     },
     "execution_count": 14,
     "metadata": {},
     "output_type": "execute_result"
    }
   ],
   "source": [
    "model.score(Xt,Yt)"
   ]
  },
  {
   "cell_type": "code",
   "execution_count": 17,
   "id": "bb5bb27c-5111-402b-8f1a-a76bc03c3db6",
   "metadata": {},
   "outputs": [
    {
     "data": {
      "text/html": [
       "<div>\n",
       "<style scoped>\n",
       "    .dataframe tbody tr th:only-of-type {\n",
       "        vertical-align: middle;\n",
       "    }\n",
       "\n",
       "    .dataframe tbody tr th {\n",
       "        vertical-align: top;\n",
       "    }\n",
       "\n",
       "    .dataframe thead th {\n",
       "        text-align: right;\n",
       "    }\n",
       "</style>\n",
       "<table border=\"1\" class=\"dataframe\">\n",
       "  <thead>\n",
       "    <tr style=\"text-align: right;\">\n",
       "      <th></th>\n",
       "      <th>review_body</th>\n",
       "      <th>sentiment_label_prediction</th>\n",
       "    </tr>\n",
       "  </thead>\n",
       "  <tbody>\n",
       "    <tr>\n",
       "      <th>0</th>\n",
       "      <td>this headset is terrible. the sound quality is...</td>\n",
       "      <td>negative</td>\n",
       "    </tr>\n",
       "    <tr>\n",
       "      <th>1</th>\n",
       "      <td>amazing game with a great storyline. i loved c...</td>\n",
       "      <td>positive</td>\n",
       "    </tr>\n",
       "  </tbody>\n",
       "</table>\n",
       "</div>"
      ],
      "text/plain": [
       "                                         review_body  \\\n",
       "0  this headset is terrible. the sound quality is...   \n",
       "1  amazing game with a great storyline. i loved c...   \n",
       "\n",
       "  sentiment_label_prediction  \n",
       "0                   negative  \n",
       "1                   positive  "
      ]
     },
     "execution_count": 17,
     "metadata": {},
     "output_type": "execute_result"
    }
   ],
   "source": [
    "fake_reviews = [\n",
    "    \"this headset is terrible. the sound quality is horrible and I can't justify paying 50 bucks for this!\",\n",
    "    \"amazing game with a great storyline. i loved completing all the quests and collecting rewards!\"    \n",
    "]\n",
    "sentiment_label_predictions = model.predict(fake_reviews)\n",
    "\n",
    "sentiment_predictions_table = pd.DataFrame({\n",
    "    \"review_body\": fake_reviews,\n",
    "    \"sentiment_label_prediction\": sentiment_label_predictions\n",
    "})\n",
    "\n",
    "sentiment_predictions_table"
   ]
  },
  {
   "cell_type": "code",
   "execution_count": 18,
   "id": "2854b7b5",
   "metadata": {},
   "outputs": [],
   "source": [
    "save_model(model,\"sentiment_label_bayes.joblib.gz\")"
   ]
  }
 ],
 "metadata": {
  "kernelspec": {
   "display_name": "Python 3 (ipykernel)",
   "language": "python",
   "name": "python3"
  },
  "language_info": {
   "codemirror_mode": {
    "name": "ipython",
    "version": 3
   },
   "file_extension": ".py",
   "mimetype": "text/x-python",
   "name": "python",
   "nbconvert_exporter": "python",
   "pygments_lexer": "ipython3",
   "version": "3.11.2"
  }
 },
 "nbformat": 4,
 "nbformat_minor": 5
}
